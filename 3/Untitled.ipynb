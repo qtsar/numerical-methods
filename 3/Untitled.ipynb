{
 "cells": [
  {
   "cell_type": "code",
   "execution_count": 2,
   "metadata": {},
   "outputs": [],
   "source": [
    "import numpy as np\n",
    "import sympy as smp\n",
    "import matplotlib.pyplot as plt"
   ]
  },
  {
   "cell_type": "code",
   "execution_count": 3,
   "metadata": {},
   "outputs": [],
   "source": [
    "x = smp.Symbol('x', real = True)\n",
    "\n",
    "x_nodes = np.array([-1, -0.83, -0.11, 0.45, 1])\n",
    "x_st = np.linspace(-1, 1, 1000)\n",
    "\n",
    "F_expr = x - smp.sin(x) + x**5\n",
    "degree = 3"
   ]
  },
  {
   "cell_type": "code",
   "execution_count": 4,
   "metadata": {},
   "outputs": [],
   "source": [
    "def subs_to_np_expr(value, expr):\n",
    "    # print(smp.simplify(expr))\n",
    "\n",
    "    expr = expr.subs(x, value)\n",
    "    expr_vector = smp.lambdify(x, expr, 'numpy')\n",
    "\n",
    "    return expr_vector(value)"
   ]
  },
  {
   "cell_type": "code",
   "execution_count": 7,
   "metadata": {},
   "outputs": [
    {
     "name": "stdout",
     "output_type": "stream",
     "text": [
      "[-1.   -0.83 -0.11  0.45  1.  ] \n",
      " [-1.15852902e+00 -4.85972693e-01 -2.37804263e-04  3.34872784e-02\n",
      "  1.15852902e+00]\n"
     ]
    }
   ],
   "source": [
    "y_nodes = subs_to_np_expr(x_nodes, F_expr)\n",
    "y_st = subs_to_np_expr(x_st, F_expr)\n",
    "\n",
    "print(x_nodes,'\\n', y_nodes)"
   ]
  },
  {
   "cell_type": "code",
   "execution_count": 8,
   "metadata": {},
   "outputs": [
    {
     "name": "stdout",
     "output_type": "stream",
     "text": [
      "left_hs [[-1.        1.       -1.        1.      ]\n",
      " [-0.571787  0.6889   -0.83      1.      ]\n",
      " [-0.001331  0.0121   -0.11      1.      ]\n",
      " [ 0.091125  0.2025    0.45      1.      ]\n",
      " [ 1.        1.        1.        1.      ]]\n",
      "right_hs [-1.15852902e+00 -4.85972693e-01 -2.37804263e-04  3.34872784e-02\n",
      "  1.15852902e+00]\n"
     ]
    }
   ],
   "source": [
    "def polyfit_square(xx, yy, deg):\n",
    "\n",
    "    order = int(deg) + 1\n",
    "    # set up least squares equation for powers of x\n",
    "    left_hs = np.vander(xx, order)\n",
    "    right_hs = yy\n",
    "\n",
    "    print('left_hs', left_hs)\n",
    "    print('right_hs', right_hs)\n",
    "\n",
    "    # scale lhs to improve condition number and solve\n",
    "    scale = np.sqrt((left_hs * left_hs).sum(axis = 0))\n",
    "    left_hs /= scale\n",
    "    c = np.linalg.lstsq(left_hs, right_hs, rcond = None)[0]\n",
    "    c = (c.T / scale).T  # broadcast scale coefficients\n",
    "    return c\n",
    "\n",
    "pol_square = polyfit_square(x_nodes, y_nodes, degree)"
   ]
  },
  {
   "cell_type": "code",
   "execution_count": 9,
   "metadata": {},
   "outputs": [],
   "source": [
    "order = degree + 1\n",
    "p = 1\n",
    "pol_lagrange = 0\n",
    "\n",
    "for n in range(order):\n",
    "    n_expr = (1 - x**2)**n\n",
    "    L_k = 1 / (smp.factorial(n) * 2**n) * smp.diff(n_expr, x, n)\n",
    "\n",
    "    expr_num = p * F_expr * L_k\n",
    "    expr_denom = p * L_k**2\n",
    "\n",
    "    num = smp.integrate(expr_num, (x, -1, 1))\n",
    "    denom = smp.integrate(expr_denom, (x, -1, 1))\n",
    "\n",
    "    c_k = num / denom\n",
    "\n",
    "    pol_lagrange += (c_k * L_k)"
   ]
  },
  {
   "cell_type": "code",
   "execution_count": 10,
   "metadata": {},
   "outputs": [
    {
     "data": {
      "image/png": "[encoded data removed]",
      "text/plain": [
       "<Figure size 432x288 with 1 Axes>"
      ]
     },
     "metadata": {
      "needs_background": "light"
     },
     "output_type": "display_data"
    }
   ],
   "source": [
    "plt.plot(x_nodes, y_nodes, 'o')\n",
    "plt.plot(x_st, y_st, '-b')\n",
    "plt.plot(x_st, np.polyval(pol_square, x_st), '-r', '-b')\n",
    "plt.plot(x_st, subs_to_np_expr(x_st, pol_lagrange), '-g')\n",
    "\n",
    "\n",
    "plt.legend(('nodes', 'real_func', 'square approx', 'lagrange approx'))\n",
    "plt.grid(True)\n",
    "plt.show()"
   ]
  },
  {
   "cell_type": "code",
   "execution_count": null,
   "metadata": {},
   "outputs": [],
   "source": []
  }
 ],
 "metadata": {
  "kernelspec": {
   "display_name": "Python 3",
   "language": "python",
   "name": "python3"
  },
  "language_info": {
   "codemirror_mode": {
    "name": "ipython",
    "version": 3
   },
   "file_extension": ".py",
   "mimetype": "text/x-python",
   "name": "python",
   "nbconvert_exporter": "python",
   "pygments_lexer": "ipython3",
   "version": "3.7.3"
  }
 },
 "nbformat": 4,
 "nbformat_minor": 2
}
